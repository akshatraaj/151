{
  "nbformat": 4,
  "nbformat_minor": 0,
  "metadata": {
    "colab": {
      "name": "project198.ipynb",
      "provenance": [],
      "collapsed_sections": [],
      "authorship_tag": "ABX9TyOP71D97LoGpT8BY1OTm/wP",
      "include_colab_link": true
    },
    "kernelspec": {
      "name": "python3",
      "display_name": "Python 3"
    },
    "language_info": {
      "name": "python"
    }
  },
  "cells": [
    {
      "cell_type": "markdown",
      "metadata": {
        "id": "view-in-github",
        "colab_type": "text"
      },
      "source": [
        "<a href=\"https://colab.research.google.com/github/akshatraaj/151/blob/main/project198.ipynb\" target=\"_parent\"><img src=\"https://colab.research.google.com/assets/colab-badge.svg\" alt=\"Open In Colab\"/></a>"
      ]
    },
    {
      "cell_type": "code",
      "metadata": {
        "id": "cWtpSCwo_l9-",
        "colab": {
          "base_uri": "https://localhost:8080/",
          "height": 299
        },
        "outputId": "ebc92582-84e0-4117-847b-0b1541699569"
      },
      "source": [
        "from array import *\n",
        "total=0\n",
        "temp = []\n",
        "while True:\n",
        "  customer_name=input(\"Enter your name: \")\n",
        "  while True:\n",
        "    print(\"Enter the number of item and quantity.\")\n",
        "    quantity = int(input(\"Enter the quantity of item: \"))\n",
        "    item = int(input(\"Enter the price of item: \"))\n",
        "    total = quantity*item\n",
        "    temp.append(total)\n",
        "    repeat = input(\"Do you want to add more products?(Y/y/N/n): \")\n",
        "    if repeat == 'n' or repeat == 'N':\n",
        "      print()\n",
        "      print()\n",
        "      print('_'*50)\n",
        "      print(\"Customer name:- \", customer_name)\n",
        "      print(\"Total Cost:- \", sum(temp)\n",
        "      print()\n",
        "      print(\"*****Thank you for shopping with us*****\")\n",
        "      print('_'*50)\n",
        "      print()\n",
        "      print()\n",
        "      break\n",
        "  new_customer = input(\"Go to the next person?(Y/y/N/n): \")\n",
        "  if new_customer=='n' or new_customer=='N':\n",
        "    break    "
      ],
      "execution_count": 19,
      "outputs": [
        {
          "name": "stdout",
          "output_type": "stream",
          "text": [
            "Enter your name: hi\n",
            "Enter the number of item and quantity.\n",
            "Enter the quantity of item: 10\n",
            "Enter the price of item: 10\n"
          ]
        },
        {
          "output_type": "error",
          "ename": "AttributeError",
          "evalue": "ignored",
          "traceback": [
            "\u001b[0;31m---------------------------------------------------------------------------\u001b[0m",
            "\u001b[0;31mAttributeError\u001b[0m                            Traceback (most recent call last)",
            "\u001b[0;32m<ipython-input-19-53c1227b8598>\u001b[0m in \u001b[0;36m<module>\u001b[0;34m()\u001b[0m\n\u001b[1;32m      9\u001b[0m     \u001b[0mitem\u001b[0m \u001b[0;34m=\u001b[0m \u001b[0mint\u001b[0m\u001b[0;34m(\u001b[0m\u001b[0minput\u001b[0m\u001b[0;34m(\u001b[0m\u001b[0;34m\"Enter the price of item: \"\u001b[0m\u001b[0;34m)\u001b[0m\u001b[0;34m)\u001b[0m\u001b[0;34m\u001b[0m\u001b[0;34m\u001b[0m\u001b[0m\n\u001b[1;32m     10\u001b[0m     \u001b[0mtotal\u001b[0m \u001b[0;34m=\u001b[0m \u001b[0mquantity\u001b[0m\u001b[0;34m*\u001b[0m\u001b[0mitem\u001b[0m\u001b[0;34m\u001b[0m\u001b[0;34m\u001b[0m\u001b[0m\n\u001b[0;32m---> 11\u001b[0;31m     \u001b[0mtemp\u001b[0m\u001b[0;34m.\u001b[0m\u001b[0mappend\u001b[0m\u001b[0;34m(\u001b[0m\u001b[0mtotal\u001b[0m\u001b[0;34m)\u001b[0m\u001b[0;34m\u001b[0m\u001b[0;34m\u001b[0m\u001b[0m\n\u001b[0m\u001b[1;32m     12\u001b[0m     \u001b[0mrepeat\u001b[0m \u001b[0;34m=\u001b[0m \u001b[0minput\u001b[0m\u001b[0;34m(\u001b[0m\u001b[0;34m\"Do you want to add more products?(Y/y/N/n): \"\u001b[0m\u001b[0;34m)\u001b[0m\u001b[0;34m\u001b[0m\u001b[0;34m\u001b[0m\u001b[0m\n\u001b[1;32m     13\u001b[0m     \u001b[0;32mif\u001b[0m \u001b[0mrepeat\u001b[0m \u001b[0;34m==\u001b[0m \u001b[0;34m'n'\u001b[0m \u001b[0;32mor\u001b[0m \u001b[0mrepeat\u001b[0m \u001b[0;34m==\u001b[0m \u001b[0;34m'N'\u001b[0m\u001b[0;34m:\u001b[0m\u001b[0;34m\u001b[0m\u001b[0;34m\u001b[0m\u001b[0m\n",
            "\u001b[0;31mAttributeError\u001b[0m: 'tuple' object has no attribute 'append'"
          ]
        }
      ]
    }
  ]
}